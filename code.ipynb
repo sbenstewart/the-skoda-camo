{
 "cells": [
  {
   "cell_type": "code",
   "execution_count": 1,
   "metadata": {},
   "outputs": [],
   "source": [
    "%matplotlib inline\n",
    "from mpmath import mpf, mp, pi\n",
    "import gmpy2\n",
    "from gmpy2 import mpz\n",
    "from PIL import Image\n",
    "import numpy as np\n",
    "import math \n",
    "import random\n",
    "import cv2\n",
    "import matplotlib\n",
    "from matplotlib import pyplot as plt"
   ]
  },
  {
   "cell_type": "code",
   "execution_count": 2,
   "metadata": {},
   "outputs": [],
   "source": [
    "scale = 10\n",
    "width = 1200*scale\n",
    "height = 1200*scale\n",
    "dpi = 300"
   ]
  },
  {
   "cell_type": "code",
   "execution_count": 3,
   "metadata": {},
   "outputs": [],
   "source": [
    "hex_length_per_pixel = 6\n",
    "total_pixels = width * height\n",
    "length = (total_pixels)*hex_length_per_pixel"
   ]
  },
  {
   "cell_type": "code",
   "execution_count": 4,
   "metadata": {},
   "outputs": [],
   "source": [
    "l = []"
   ]
  },
  {
   "cell_type": "code",
   "execution_count": 5,
   "metadata": {},
   "outputs": [],
   "source": [
    "hex_length_per_row = width*hex_length_per_pixel"
   ]
  },
  {
   "cell_type": "code",
   "execution_count": 6,
   "metadata": {},
   "outputs": [],
   "source": [
    "colours = [(66, 189, 59),(230, 230, 230),(152, 162, 167),(20, 20, 20),(0,0,0)]"
   ]
  },
  {
   "cell_type": "code",
   "execution_count": 7,
   "metadata": {},
   "outputs": [],
   "source": [
    "for row_index in range(0, length, hex_length_per_row):\n",
    "    row = []\n",
    "    for column_index in range(0, width):\n",
    "        pixel = []\n",
    "        row.append(random.choice(colours))\n",
    "    l.insert(int(row_index/hex_length_per_row), row)"
   ]
  },
  {
   "cell_type": "code",
   "execution_count": 8,
   "metadata": {},
   "outputs": [],
   "source": [
    "#pixel"
   ]
  },
  {
   "cell_type": "code",
   "execution_count": 9,
   "metadata": {},
   "outputs": [],
   "source": [
    "#row"
   ]
  },
  {
   "cell_type": "code",
   "execution_count": 10,
   "metadata": {},
   "outputs": [],
   "source": [
    "#l"
   ]
  },
  {
   "cell_type": "code",
   "execution_count": 11,
   "metadata": {},
   "outputs": [
    {
     "name": "stdout",
     "output_type": "stream",
     "text": [
      "The resolution is 12000 X 12000\n"
     ]
    }
   ],
   "source": [
    "print('The resolution is '+str(len(l[0]))+' X '+str(len(l)))"
   ]
  },
  {
   "cell_type": "code",
   "execution_count": 12,
   "metadata": {},
   "outputs": [],
   "source": [
    "# Convert the pixels into an array using numpy\n",
    "array = np.array(l, dtype=np.uint8)\n",
    "\n",
    "# Use PIL to create an image from the new array of pixels\n",
    "new_image = Image.fromarray(array)\n",
    "new_image.save(\"camo-bg.jpeg\", \"JPEG\", quality=100, optimize=False, progressive=True)"
   ]
  },
  {
   "cell_type": "code",
   "execution_count": 13,
   "metadata": {},
   "outputs": [],
   "source": [
    "open_cv_image = np.array(new_image) \n",
    "# Convert RGB to BGR \n",
    "open_cv_image = open_cv_image[:, :, ::-1].copy() "
   ]
  },
  {
   "cell_type": "code",
   "execution_count": 14,
   "metadata": {},
   "outputs": [
    {
     "name": "stdout",
     "output_type": "stream",
     "text": [
      "CPU times: user 910 µs, sys: 0 ns, total: 910 µs\n",
      "Wall time: 3.16 ms\n"
     ]
    }
   ],
   "source": [
    "mp.dps = 50\n",
    "%time pi = mpf(pi)\n",
    "pi = str(pi)"
   ]
  },
  {
   "cell_type": "code",
   "execution_count": 15,
   "metadata": {},
   "outputs": [],
   "source": [
    "random.seed(pi)"
   ]
  },
  {
   "cell_type": "code",
   "execution_count": 16,
   "metadata": {},
   "outputs": [],
   "source": [
    "for i in range(600):\n",
    "    choice = int(random.randint(0,2))\n",
    "    colour = random.choice(colours)[::-1]\n",
    "    if choice == 0:\n",
    "        center_coordinates = (random.randint(1,1200)*scale, random.randint(1,1200)*scale)\n",
    "        radius = random.randint(35,55)*scale\n",
    "        thickness = random.randint(5,15)*scale\n",
    "        open_cv_image = cv2.circle(open_cv_image, center_coordinates, radius, colour, thickness)\n",
    "    elif choice == 1:\n",
    "        start_point = (random.randint(-1200/2,1200)*scale, random.randint(-1200/2,1200)*scale)\n",
    "        dimensions = (random.randint(100,1200/2)*scale, random.randint(100,1200)/2*scale)\n",
    "        thickness = random.randint(5,15)*scale\n",
    "        end_point = tuple(map(lambda x, y: int(x + y), start_point, dimensions))\n",
    "        open_cv_image = cv2.rectangle(open_cv_image, start_point, end_point, colour, thickness)\n",
    "    else:\n",
    "        point_1 = (random.randint(-1200/2,1200)*scale, random.randint(-1200/2,1200)*scale)\n",
    "        dimensions = (random.randint(100,1200/2)*scale, random.randint(100,1200)/2*scale)\n",
    "        point_2 = (point_1[0],int(point_1[1]+dimensions[1]))\n",
    "        X, Y = np.array([point_1]), np.array([point_2])\n",
    "        M = (X + Y) / 2\n",
    "        O = (X - M) * 3**0.5\n",
    "        t = np.array([[0, -1], [1, 0]]) \n",
    "        point_3 = M + O @ t\n",
    "        point_3 = tuple(point_3.reshape(1, -1)[0])\n",
    "        point_3 = tuple((int(point_3[0]),int(point_3[1])))\n",
    "        pts = [point_1, point_2, point_3]\n",
    "        thickness = random.randint(5,6)*scale\n",
    "        open_cv_image = cv2.polylines(open_cv_image, np.array([pts]), True, colour, thickness)"
   ]
  },
  {
   "cell_type": "code",
   "execution_count": 17,
   "metadata": {},
   "outputs": [],
   "source": [
    "open_cv_image = cv2.cvtColor(open_cv_image, cv2.COLOR_BGR2RGB)\n",
    "pil_image = Image.fromarray(open_cv_image)\n",
    "pil_image.save(\"camo.jpeg\", \"JPEG\", quality=100, optimize=False, progressive=True)\n",
    "#pil_image"
   ]
  },
  {
   "cell_type": "code",
   "execution_count": 18,
   "metadata": {},
   "outputs": [],
   "source": [
    "pil_image.save('camo.eps', lossless = True)"
   ]
  },
  {
   "cell_type": "code",
   "execution_count": null,
   "metadata": {},
   "outputs": [],
   "source": []
  }
 ],
 "metadata": {
  "kernelspec": {
   "display_name": "Python 3",
   "language": "python",
   "name": "python3"
  },
  "language_info": {
   "codemirror_mode": {
    "name": "ipython",
    "version": 3
   },
   "file_extension": ".py",
   "mimetype": "text/x-python",
   "name": "python",
   "nbconvert_exporter": "python",
   "pygments_lexer": "ipython3",
   "version": "3.8.8"
  }
 },
 "nbformat": 4,
 "nbformat_minor": 2
}
